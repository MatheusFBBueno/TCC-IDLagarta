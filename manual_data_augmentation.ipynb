{
 "cells": [
  {
   "cell_type": "markdown",
   "metadata": {
    "id": "4plb7-XF_Z66"
   },
   "source": [
    "O Objetivo deste notebook é ampliar um dataset gerando novas imagens a partir de Data Augmentation. Antes de usar, lembre de criar um backup de seu dataset original. Lembre também que o resultado pode gerar conflitos se no seu treinamento também for usado data augmentation, significando que podem ser criadas imagens duplicadas e causar certo grau de overfitting."
   ]
  },
  {
   "cell_type": "code",
   "execution_count": 1,
   "metadata": {
    "colab": {
     "base_uri": "https://localhost:8080/"
    },
    "id": "uK2tDjey_XPZ",
    "outputId": "0eb57fdc-0120-44a4-da32-9ef63bd418cc"
   },
   "outputs": [],
   "source": [
    "#Carregar pasta com dataset a ampliar\n",
    "from pathlib import Path\n",
    "root_dir = 'data-augmentation'\n",
    "global base_dir\n",
    "base_dir = root_dir+ \"/input\"\n",
    "path=Path(base_dir)"
   ]
  },
  {
   "cell_type": "code",
   "execution_count": 2,
   "metadata": {
    "colab": {
     "base_uri": "https://localhost:8080/"
    },
    "id": "3wpazdxNCENr",
    "outputId": "52c95264-01f2-4967-e647-0463def032a2"
   },
   "outputs": [
    {
     "name": "stdout",
     "output_type": "stream",
     "text": [
      "['acharia', 'phobetron', 'hylesia', 'arctiidae', 'lonomia', 'nao-peconhenta', 'automeris', 'nao-lagarta', 'megalopyge', 'podalia']\n"
     ]
    }
   ],
   "source": [
    "import os\n",
    "directories = os.listdir(path)\n",
    "print(directories)\n"
   ]
  },
  {
   "cell_type": "code",
   "execution_count": 3,
   "metadata": {
    "colab": {
     "base_uri": "https://localhost:8080/"
    },
    "id": "89UsqoioCOTf",
    "outputId": "6e9824d4-21e4-495a-e8b4-51f098c6379d"
   },
   "outputs": [
    {
     "name": "stdout",
     "output_type": "stream",
     "text": [
      "data-augmentation/output/temp\n",
      "False\n",
      "True\n",
      "True\n",
      "True\n",
      "True\n",
      "True\n",
      "True\n",
      "True\n",
      "True\n",
      "True\n",
      "True\n"
     ]
    }
   ],
   "source": [
    "# Escolher pasta de output\n",
    "import os\n",
    "root_output = os.path.join(root_dir, 'output')\n",
    "temp_dir = os.path.join(root_output, 'temp')\n",
    "print(temp_dir)\n",
    "print(os.path.exists(temp_dir))\n",
    "if not os.path.exists(temp_dir):\n",
    "        os.mkdir(temp_dir)\n",
    "\n",
    "for chosen_dir in directories:\n",
    "    output_class_dir = os.path.join(temp_dir,chosen_dir)\n",
    "    # Se a pasta não existe ela é criada\n",
    "    if not os.path.exists(output_class_dir):\n",
    "        os.mkdir(output_class_dir)\n",
    "    print(os.path.exists(output_class_dir))"
   ]
  },
  {
   "cell_type": "code",
   "execution_count": 9,
   "metadata": {
    "colab": {
     "base_uri": "https://localhost:8080/"
    },
    "id": "qbZWlZNFJGLn",
    "outputId": "671aaee8-f2f6-42b1-a774-ee0624e68103"
   },
   "outputs": [
    {
     "name": "stdout",
     "output_type": "stream",
     "text": [
      "Collecting Augmentor\n",
      "  Downloading Augmentor-0.2.12-py2.py3-none-any.whl.metadata (1.3 kB)\n",
      "Requirement already satisfied: Pillow>=5.2.0 in /home/matheus/anaconda3/envs/gpu_env/lib/python3.9/site-packages (from Augmentor) (10.2.0)\n",
      "Requirement already satisfied: tqdm>=4.9.0 in /home/matheus/anaconda3/envs/gpu_env/lib/python3.9/site-packages (from Augmentor) (4.65.0)\n",
      "Requirement already satisfied: numpy>=1.11.0 in /home/matheus/anaconda3/envs/gpu_env/lib/python3.9/site-packages (from Augmentor) (1.26.4)\n",
      "Downloading Augmentor-0.2.12-py2.py3-none-any.whl (38 kB)\n",
      "Installing collected packages: Augmentor\n",
      "Successfully installed Augmentor-0.2.12\n"
     ]
    }
   ],
   "source": [
    "#Inicialmente vamos tentar com a bilbioteca Augmentor\n",
    "# https://github.com/mdbloice/Augmentor\n",
    "!pip install Augmentor"
   ]
  },
  {
   "cell_type": "code",
   "execution_count": 4,
   "metadata": {
    "colab": {
     "base_uri": "https://localhost:8080/"
    },
    "id": "hyz8MdMIJlUA",
    "outputId": "c2a48b03-7b32-434e-8455-42fec119175c"
   },
   "outputs": [
    {
     "name": "stdout",
     "output_type": "stream",
     "text": [
      "Initialised with 645 image(s) found.\n",
      "Output directory set to data-augmentation/input/acharia/output."
     ]
    },
    {
     "name": "stderr",
     "output_type": "stream",
     "text": [
      "Processing <PIL.Image.Image image mode=RGB size=500x370 at 0x76B4BA1A61F0>: 100%\n"
     ]
    },
    {
     "name": "stdout",
     "output_type": "stream",
     "text": [
      "Initialised with 355 image(s) found.\n",
      "Output directory set to data-augmentation/input/phobetron/output."
     ]
    },
    {
     "name": "stderr",
     "output_type": "stream",
     "text": [
      "Processing <PIL.Image.Image image mode=RGB size=375x500 at 0x76B4BA1276A0>: 100%\n"
     ]
    },
    {
     "name": "stdout",
     "output_type": "stream",
     "text": [
      "Initialised with 556 image(s) found.\n",
      "Output directory set to data-augmentation/input/hylesia/output."
     ]
    },
    {
     "name": "stderr",
     "output_type": "stream",
     "text": [
      "Processing <PIL.Image.Image image mode=RGB size=180x240 at 0x76B4BB532340>: 100%\n"
     ]
    },
    {
     "name": "stdout",
     "output_type": "stream",
     "text": [
      "Initialised with 617 image(s) found.\n",
      "Output directory set to data-augmentation/input/arctiidae/output."
     ]
    },
    {
     "name": "stderr",
     "output_type": "stream",
     "text": [
      "Processing <PIL.Image.Image image mode=RGB size=500x333 at 0x76B4BA0D2910>: 100%\n"
     ]
    },
    {
     "name": "stdout",
     "output_type": "stream",
     "text": [
      "Initialised with 124 image(s) found.\n",
      "Output directory set to data-augmentation/input/lonomia/output."
     ]
    },
    {
     "name": "stderr",
     "output_type": "stream",
     "text": [
      "Processing <PIL.Image.Image image mode=RGB size=768x1024 at 0x76B4BAA56F70>: 100\n"
     ]
    },
    {
     "name": "stdout",
     "output_type": "stream",
     "text": [
      "Initialised with 820 image(s) found.\n",
      "Output directory set to data-augmentation/input/nao-peconhenta/output."
     ]
    },
    {
     "name": "stderr",
     "output_type": "stream",
     "text": [
      "Processing <PIL.Image.Image image mode=RGB size=240x160 at 0x76B4BA154A60>: 100%\n"
     ]
    },
    {
     "name": "stdout",
     "output_type": "stream",
     "text": [
      "Initialised with 736 image(s) found.\n",
      "Output directory set to data-augmentation/input/automeris/output."
     ]
    },
    {
     "name": "stderr",
     "output_type": "stream",
     "text": [
      "Processing <PIL.Image.Image image mode=RGB size=500x500 at 0x76B4BA097790>: 100%\n"
     ]
    },
    {
     "name": "stdout",
     "output_type": "stream",
     "text": [
      "Initialised with 640 image(s) found.\n",
      "Output directory set to data-augmentation/input/nao-lagarta/output."
     ]
    },
    {
     "name": "stderr",
     "output_type": "stream",
     "text": [
      "Processing <PIL.Image.Image image mode=RGB size=224x224 at 0x76B4BAB12910>: 100%\n"
     ]
    },
    {
     "name": "stdout",
     "output_type": "stream",
     "text": [
      "Initialised with 691 image(s) found.\n",
      "Output directory set to data-augmentation/input/megalopyge/output."
     ]
    },
    {
     "name": "stderr",
     "output_type": "stream",
     "text": [
      "Processing <PIL.Image.Image image mode=RGB size=240x180 at 0x76B4BA095F10>: 100%\n"
     ]
    },
    {
     "name": "stdout",
     "output_type": "stream",
     "text": [
      "Initialised with 817 image(s) found.\n",
      "Output directory set to data-augmentation/input/podalia/output."
     ]
    },
    {
     "name": "stderr",
     "output_type": "stream",
     "text": [
      "Processing <PIL.Image.Image image mode=RGB size=500x281 at 0x76B4BAB05400>: 100%\n"
     ]
    }
   ],
   "source": [
    "import Augmentor\n",
    "\n",
    "for chosen_dir in directories:\n",
    "\n",
    "    path_to_class_dir = os.path.join(path, chosen_dir)\n",
    "    augmentor_pipeline = Augmentor.Pipeline(path_to_class_dir)\n",
    "    # escolher as tranformações a aplicar, edite como for melhor para seu caso\n",
    "    augmentor_pipeline.rotate_random_90(probability=0.7)  # rotação aleatória de 90 - 270, aplicada com 70% de probabilidade para cada imagem\n",
    "    augmentor_pipeline.flip_left_right(probability=0.7)  # espelhamento horizontal\n",
    "    augmentor_pipeline.flip_top_bottom(probability=0.4)  # espelhamento vertical, talvez possa causar problemas então está com probabilidade menor\n",
    "    augmentor_pipeline.skew(probability=0.8)  # distorção de perspectiva, gera imagens que simulam visão de múltiplas perspectivas, ver https://augmentor.readthedocs.io/en/stable/userguide/mainfeatures.html#perspective-skewing\n",
    "    #p.crop_centre(probability=0.3)  # corte no centro da imagem, útil se a maior parte das imagens estão com objeto a classificar no centro, mas pode gerar resultados piores dependendo do dataset\n",
    "    images_to_make = 1500\n",
    "    augmentor_pipeline.sample(images_to_make) # gera n imagens, dentro de uma pasta output DENTRO da pasta original do dataset\n",
    "\n"
   ]
  },
  {
   "cell_type": "code",
   "execution_count": 5,
   "metadata": {
    "id": "HL-scvXKJ0LC"
   },
   "outputs": [],
   "source": [
    "# para evitar estragar pasta original, vamos mover essa pasta output para nossa pasta de output\n",
    "import shutil # biblioteca que facilita mover diretorios\n",
    "for chosen_dir in directories:\n",
    "    output_class_dir = os.path.join(temp_dir,chosen_dir)\n",
    "    path_to_class_dir = os.path.join(path, chosen_dir)\n",
    "    default_output = os.path.join(path_to_class_dir, 'output')\n",
    "    file_names = os.listdir(default_output)\n",
    "    for file_name in file_names:\n",
    "        shutil.move(os.path.join(default_output, file_name), output_class_dir)\n",
    "    # remover pasta de output default\n",
    "    os.rmdir(default_output)"
   ]
  },
  {
   "cell_type": "code",
   "execution_count": null,
   "metadata": {
    "id": "I0xnTV6TWELK"
   },
   "outputs": [],
   "source": []
  }
 ],
 "metadata": {
  "colab": {
   "provenance": []
  },
  "kernelspec": {
   "display_name": "Python 3 (ipykernel)",
   "language": "python",
   "name": "python3"
  },
  "language_info": {
   "codemirror_mode": {
    "name": "ipython",
    "version": 3
   },
   "file_extension": ".py",
   "mimetype": "text/x-python",
   "name": "python",
   "nbconvert_exporter": "python",
   "pygments_lexer": "ipython3",
   "version": "3.9.18"
  }
 },
 "nbformat": 4,
 "nbformat_minor": 4
}
